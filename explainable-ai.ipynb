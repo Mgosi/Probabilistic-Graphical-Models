{
 "cells": [
  {
   "cell_type": "markdown",
   "metadata": {},
   "source": [
    "\n",
    "# Project 1 : Determining Probabilities of Handwriting Formations using PGMs\n",
    "## UBIT Name : mgosi\n",
    "## Person No   : 50290934\n",
    "## Name : Mahesh Gosi"
   ]
  },
  {
   "cell_type": "code",
   "execution_count": 30,
   "metadata": {
    "ExecuteTime": {
     "end_time": "2019-04-04T22:15:33.173299Z",
     "start_time": "2019-04-04T22:15:33.155639Z"
    },
    "init_cell": true
   },
   "outputs": [],
   "source": [
    "import pandas as pd\n",
    "import numpy as np\n",
    "from pgmpy.estimators import K2Score\n",
    "from pgmpy.models import BayesianModel\n",
    "from IPython.display import display\n",
    "from pgmpy.inference import BeliefPropagation"
   ]
  },
  {
   "cell_type": "markdown",
   "metadata": {},
   "source": [
    "# Part 1 : Evaluate Correlations and Independencies\n",
    "We determine how the variables are related to eachother. This is tested by comparing the Joint Probability with the product of the probabilities of the corresponding variables.\n",
    "## Retrieving the Probabilities into a Dataframe"
   ]
  },
  {
   "cell_type": "code",
   "execution_count": 31,
   "metadata": {
    "ExecuteTime": {
     "end_time": "2019-04-04T22:15:34.049877Z",
     "start_time": "2019-04-04T22:15:33.990826Z"
    },
    "init_cell": true
   },
   "outputs": [],
   "source": [
    "CondProbDist = {}\n",
    "CondProbDist\n",
    "for i in range(6):\n",
    "    CondProbDist[i] = pd.read_csv('Table'+str(i+3)+'.csv')\n",
    "    CondProbDist[i].replace(regex = True, inplace = True, to_replace = r'% *\\(*[0-9]*\\)*', value = r'')\n",
    "MargProb = pd.read_csv('Table2.csv')\n",
    "MargProb.replace(regex = True, inplace = True, to_replace = r'% *\\(*[0-9]*\\)*', value = r'')\n"
   ]
  },
  {
   "cell_type": "code",
   "execution_count": 32,
   "metadata": {
    "ExecuteTime": {
     "end_time": "2019-04-04T22:15:34.308497Z",
     "start_time": "2019-04-04T22:15:34.083181Z"
    }
   },
   "outputs": [
    {
     "name": "stdout",
     "output_type": "stream",
     "text": [
      "============================================================================\n",
      "CPD 1\n",
      "============================================================================\n"
     ]
    },
    {
     "data": {
      "text/html": [
       "<div>\n",
       "<style scoped>\n",
       "    .dataframe tbody tr th:only-of-type {\n",
       "        vertical-align: middle;\n",
       "    }\n",
       "\n",
       "    .dataframe tbody tr th {\n",
       "        vertical-align: top;\n",
       "    }\n",
       "\n",
       "    .dataframe thead th {\n",
       "        text-align: right;\n",
       "    }\n",
       "</style>\n",
       "<table border=\"1\" class=\"dataframe\">\n",
       "  <thead>\n",
       "    <tr style=\"text-align: right;\">\n",
       "      <th></th>\n",
       "      <th>x1</th>\n",
       "      <th>x01 (t shorter than h)</th>\n",
       "      <th>x11 (t even with h)</th>\n",
       "      <th>x21 (t taller than h)</th>\n",
       "      <th>x31 (No set pattern)</th>\n",
       "    </tr>\n",
       "  </thead>\n",
       "  <tbody>\n",
       "    <tr>\n",
       "      <th>0</th>\n",
       "      <td>Total</td>\n",
       "      <td>78</td>\n",
       "      <td>1.5</td>\n",
       "      <td>5.5</td>\n",
       "      <td>15</td>\n",
       "    </tr>\n",
       "    <tr>\n",
       "      <th>1</th>\n",
       "      <td>x02 (retraced staff)</td>\n",
       "      <td>23.1</td>\n",
       "      <td>66.6</td>\n",
       "      <td>45.5</td>\n",
       "      <td>40</td>\n",
       "    </tr>\n",
       "    <tr>\n",
       "      <th>2</th>\n",
       "      <td>x12 (curved right)</td>\n",
       "      <td>36.5</td>\n",
       "      <td>0</td>\n",
       "      <td>9.1</td>\n",
       "      <td>20</td>\n",
       "    </tr>\n",
       "    <tr>\n",
       "      <th>3</th>\n",
       "      <td>x22 (curved left)</td>\n",
       "      <td>2.6</td>\n",
       "      <td>0</td>\n",
       "      <td>0</td>\n",
       "      <td>3.3</td>\n",
       "    </tr>\n",
       "    <tr>\n",
       "      <th>4</th>\n",
       "      <td>x32 (both curved)</td>\n",
       "      <td>17.3</td>\n",
       "      <td>0</td>\n",
       "      <td>18.2</td>\n",
       "      <td>16.7</td>\n",
       "    </tr>\n",
       "    <tr>\n",
       "      <th>5</th>\n",
       "      <td>x42 (no pattern)</td>\n",
       "      <td>20.5</td>\n",
       "      <td>33.3</td>\n",
       "      <td>27.3</td>\n",
       "      <td>20</td>\n",
       "    </tr>\n",
       "    <tr>\n",
       "      <th>6</th>\n",
       "      <td>x04 (upper staff)</td>\n",
       "      <td>73.7</td>\n",
       "      <td>100</td>\n",
       "      <td>72.7</td>\n",
       "      <td>56.7</td>\n",
       "    </tr>\n",
       "    <tr>\n",
       "      <th>7</th>\n",
       "      <td>x14 (lower staff)</td>\n",
       "      <td>7.7</td>\n",
       "      <td>0</td>\n",
       "      <td>27.3</td>\n",
       "      <td>20</td>\n",
       "    </tr>\n",
       "    <tr>\n",
       "      <th>8</th>\n",
       "      <td>x24 (above staff)</td>\n",
       "      <td>1.3</td>\n",
       "      <td>0</td>\n",
       "      <td>0</td>\n",
       "      <td>0</td>\n",
       "    </tr>\n",
       "    <tr>\n",
       "      <th>9</th>\n",
       "      <td>x34 (no pattern)</td>\n",
       "      <td>17.3</td>\n",
       "      <td>0</td>\n",
       "      <td>0</td>\n",
       "      <td>23.3</td>\n",
       "    </tr>\n",
       "    <tr>\n",
       "      <th>10</th>\n",
       "      <td>x06 (tented t)</td>\n",
       "      <td>1.9</td>\n",
       "      <td>0</td>\n",
       "      <td>0</td>\n",
       "      <td>0</td>\n",
       "    </tr>\n",
       "    <tr>\n",
       "      <th>11</th>\n",
       "      <td>x16 (single stroke t)</td>\n",
       "      <td>28.2</td>\n",
       "      <td>66.6</td>\n",
       "      <td>54.5</td>\n",
       "      <td>40</td>\n",
       "    </tr>\n",
       "    <tr>\n",
       "      <th>12</th>\n",
       "      <td>x26 (looped t)</td>\n",
       "      <td>12.8</td>\n",
       "      <td>33.3</td>\n",
       "      <td>9.1</td>\n",
       "      <td>20</td>\n",
       "    </tr>\n",
       "    <tr>\n",
       "      <th>13</th>\n",
       "      <td>x36 (closed t)</td>\n",
       "      <td>35.2</td>\n",
       "      <td>0</td>\n",
       "      <td>18.2</td>\n",
       "      <td>20</td>\n",
       "    </tr>\n",
       "    <tr>\n",
       "      <th>14</th>\n",
       "      <td>x46 (mixed shapes)</td>\n",
       "      <td>21.8</td>\n",
       "      <td>0</td>\n",
       "      <td>18.2</td>\n",
       "      <td>20</td>\n",
       "    </tr>\n",
       "  </tbody>\n",
       "</table>\n",
       "</div>"
      ],
      "text/plain": [
       "                        x1 x01 (t shorter than h) x11 (t even with h)  \\\n",
       "0                    Total                     78                 1.5   \n",
       "1    x02 (retraced staff)                    23.1                66.6   \n",
       "2      x12 (curved right)                    36.5                   0   \n",
       "3        x22 (curved left)                    2.6                   0   \n",
       "4        x32 (both curved)                   17.3                   0   \n",
       "5         x42 (no pattern)                   20.5                33.3   \n",
       "6       x04 (upper staff)                    73.7                 100   \n",
       "7       x14 (lower staff)                     7.7                   0   \n",
       "8       x24 (above staff)                     1.3                   0   \n",
       "9         x34 (no pattern)                   17.3                   0   \n",
       "10         x06 (tented t)                     1.9                   0   \n",
       "11  x16 (single stroke t)                    28.2                66.6   \n",
       "12         x26 (looped t)                    12.8                33.3   \n",
       "13          x36 (closed t)                   35.2                   0   \n",
       "14     x46 (mixed shapes)                    21.8                   0   \n",
       "\n",
       "   x21 (t taller than h) x31 (No set pattern)  \n",
       "0                    5.5                   15  \n",
       "1                   45.5                   40  \n",
       "2                    9.1                   20  \n",
       "3                      0                  3.3  \n",
       "4                   18.2                 16.7  \n",
       "5                   27.3                   20  \n",
       "6                   72.7                 56.7  \n",
       "7                   27.3                   20  \n",
       "8                      0                    0  \n",
       "9                      0                 23.3  \n",
       "10                     0                    0  \n",
       "11                  54.5                   40  \n",
       "12                   9.1                   20  \n",
       "13                  18.2                   20  \n",
       "14                  18.2                   20  "
      ]
     },
     "metadata": {},
     "output_type": "display_data"
    },
    {
     "name": "stdout",
     "output_type": "stream",
     "text": [
      "----------------------------------------------------------------------------\n",
      "============================================================================\n",
      "CPD 2\n",
      "============================================================================\n"
     ]
    },
    {
     "data": {
      "text/html": [
       "<div>\n",
       "<style scoped>\n",
       "    .dataframe tbody tr th:only-of-type {\n",
       "        vertical-align: middle;\n",
       "    }\n",
       "\n",
       "    .dataframe tbody tr th {\n",
       "        vertical-align: top;\n",
       "    }\n",
       "\n",
       "    .dataframe thead th {\n",
       "        text-align: right;\n",
       "    }\n",
       "</style>\n",
       "<table border=\"1\" class=\"dataframe\">\n",
       "  <thead>\n",
       "    <tr style=\"text-align: right;\">\n",
       "      <th></th>\n",
       "      <th>x2</th>\n",
       "      <th>x02 (retraced staff)</th>\n",
       "      <th>x12 (curved right)</th>\n",
       "      <th>x22 (curved left)</th>\n",
       "      <th>x32 (both curved)</th>\n",
       "      <th>x42 (no pattern)</th>\n",
       "    </tr>\n",
       "  </thead>\n",
       "  <tbody>\n",
       "    <tr>\n",
       "      <th>0</th>\n",
       "      <td>Total</td>\n",
       "      <td>27.5</td>\n",
       "      <td>32</td>\n",
       "      <td>2.5</td>\n",
       "      <td>17</td>\n",
       "      <td>21</td>\n",
       "    </tr>\n",
       "    <tr>\n",
       "      <th>1</th>\n",
       "      <td>x03 (rounded arch)</td>\n",
       "      <td>12.7</td>\n",
       "      <td>26.6</td>\n",
       "      <td>20</td>\n",
       "      <td>17.6</td>\n",
       "      <td>11.9</td>\n",
       "    </tr>\n",
       "    <tr>\n",
       "      <th>2</th>\n",
       "      <td>x13 (pointed arch)</td>\n",
       "      <td>74.5</td>\n",
       "      <td>65.6</td>\n",
       "      <td>80</td>\n",
       "      <td>70.6</td>\n",
       "      <td>50</td>\n",
       "    </tr>\n",
       "    <tr>\n",
       "      <th>3</th>\n",
       "      <td>x23 (no pattern)</td>\n",
       "      <td>12.7</td>\n",
       "      <td>7.8</td>\n",
       "      <td>0</td>\n",
       "      <td>11.8</td>\n",
       "      <td>38.1</td>\n",
       "    </tr>\n",
       "    <tr>\n",
       "      <th>4</th>\n",
       "      <td>x05 (upward)</td>\n",
       "      <td>41.8</td>\n",
       "      <td>34.4</td>\n",
       "      <td>60</td>\n",
       "      <td>38.2</td>\n",
       "      <td>33.4</td>\n",
       "    </tr>\n",
       "    <tr>\n",
       "      <th>5</th>\n",
       "      <td>x15 (downward)</td>\n",
       "      <td>7.3</td>\n",
       "      <td>10.9</td>\n",
       "      <td>40</td>\n",
       "      <td>14.7</td>\n",
       "      <td>9.5</td>\n",
       "    </tr>\n",
       "    <tr>\n",
       "      <th>6</th>\n",
       "      <td>x25 (even)</td>\n",
       "      <td>10.9</td>\n",
       "      <td>12.5</td>\n",
       "      <td>0</td>\n",
       "      <td>11.8</td>\n",
       "      <td>7.1</td>\n",
       "    </tr>\n",
       "    <tr>\n",
       "      <th>7</th>\n",
       "      <td>x35 (no pattern)</td>\n",
       "      <td>40</td>\n",
       "      <td>42.2</td>\n",
       "      <td>0</td>\n",
       "      <td>35.3</td>\n",
       "      <td>50</td>\n",
       "    </tr>\n",
       "  </tbody>\n",
       "</table>\n",
       "</div>"
      ],
      "text/plain": [
       "                   x2 x02 (retraced staff) x12 (curved right)  \\\n",
       "0               Total                 27.5                 32   \n",
       "1  x03 (rounded arch)                 12.7               26.6   \n",
       "2  x13 (pointed arch)                 74.5               65.6   \n",
       "3    x23 (no pattern)                 12.7                7.8   \n",
       "4        x05 (upward)                 41.8               34.4   \n",
       "5      x15 (downward)                  7.3               10.9   \n",
       "6          x25 (even)                 10.9               12.5   \n",
       "7    x35 (no pattern)                   40               42.2   \n",
       "\n",
       "  x22 (curved left) x32 (both curved) x42 (no pattern)  \n",
       "0               2.5                17               21  \n",
       "1                20              17.6             11.9  \n",
       "2                80              70.6               50  \n",
       "3                 0              11.8             38.1  \n",
       "4                60              38.2             33.4  \n",
       "5                40              14.7              9.5  \n",
       "6                 0              11.8              7.1  \n",
       "7                 0              35.3               50  "
      ]
     },
     "metadata": {},
     "output_type": "display_data"
    },
    {
     "name": "stdout",
     "output_type": "stream",
     "text": [
      "----------------------------------------------------------------------------\n",
      "============================================================================\n",
      "CPD 3\n",
      "============================================================================\n"
     ]
    },
    {
     "data": {
      "text/html": [
       "<div>\n",
       "<style scoped>\n",
       "    .dataframe tbody tr th:only-of-type {\n",
       "        vertical-align: middle;\n",
       "    }\n",
       "\n",
       "    .dataframe tbody tr th {\n",
       "        vertical-align: top;\n",
       "    }\n",
       "\n",
       "    .dataframe thead th {\n",
       "        text-align: right;\n",
       "    }\n",
       "</style>\n",
       "<table border=\"1\" class=\"dataframe\">\n",
       "  <thead>\n",
       "    <tr style=\"text-align: right;\">\n",
       "      <th></th>\n",
       "      <th>x3</th>\n",
       "      <th>x03 (rounded arch)</th>\n",
       "      <th>x13 (pointed arch)</th>\n",
       "      <th>x23 (no pattern)</th>\n",
       "    </tr>\n",
       "  </thead>\n",
       "  <tbody>\n",
       "    <tr>\n",
       "      <th>0</th>\n",
       "      <td>Total</td>\n",
       "      <td>18</td>\n",
       "      <td>66</td>\n",
       "      <td>16</td>\n",
       "    </tr>\n",
       "    <tr>\n",
       "      <th>1</th>\n",
       "      <td>x02 (retraced staff)</td>\n",
       "      <td>19.4</td>\n",
       "      <td>31.1</td>\n",
       "      <td>21.9</td>\n",
       "    </tr>\n",
       "    <tr>\n",
       "      <th>2</th>\n",
       "      <td>x12 (curved right)</td>\n",
       "      <td>47.2</td>\n",
       "      <td>31.8</td>\n",
       "      <td>15.6</td>\n",
       "    </tr>\n",
       "    <tr>\n",
       "      <th>3</th>\n",
       "      <td>x22 (curved left)</td>\n",
       "      <td>2.8</td>\n",
       "      <td>3.03</td>\n",
       "      <td>0</td>\n",
       "    </tr>\n",
       "    <tr>\n",
       "      <th>4</th>\n",
       "      <td>x32 (both curved)</td>\n",
       "      <td>16.7</td>\n",
       "      <td>18.2</td>\n",
       "      <td>12.5</td>\n",
       "    </tr>\n",
       "    <tr>\n",
       "      <th>5</th>\n",
       "      <td>x42 (no pattern)</td>\n",
       "      <td>13.9</td>\n",
       "      <td>15.9</td>\n",
       "      <td>50</td>\n",
       "    </tr>\n",
       "    <tr>\n",
       "      <th>6</th>\n",
       "      <td>x05 (upward)</td>\n",
       "      <td>36.1</td>\n",
       "      <td>39.4</td>\n",
       "      <td>31.3</td>\n",
       "    </tr>\n",
       "    <tr>\n",
       "      <th>7</th>\n",
       "      <td>x15 (downward)</td>\n",
       "      <td>8.3</td>\n",
       "      <td>11.4</td>\n",
       "      <td>12.5</td>\n",
       "    </tr>\n",
       "    <tr>\n",
       "      <th>8</th>\n",
       "      <td>x25 (even)</td>\n",
       "      <td>22.2</td>\n",
       "      <td>9.1</td>\n",
       "      <td>3.1</td>\n",
       "    </tr>\n",
       "    <tr>\n",
       "      <th>9</th>\n",
       "      <td>x35 (no pattern)</td>\n",
       "      <td>33.3</td>\n",
       "      <td>40.2</td>\n",
       "      <td>53.1</td>\n",
       "    </tr>\n",
       "    <tr>\n",
       "      <th>10</th>\n",
       "      <td>x06 (tented t)</td>\n",
       "      <td>0</td>\n",
       "      <td>2.3</td>\n",
       "      <td>0</td>\n",
       "    </tr>\n",
       "    <tr>\n",
       "      <th>11</th>\n",
       "      <td>x16 (single stroke t)</td>\n",
       "      <td>38.9</td>\n",
       "      <td>31.8</td>\n",
       "      <td>25</td>\n",
       "    </tr>\n",
       "    <tr>\n",
       "      <th>12</th>\n",
       "      <td>x26 (looped t)</td>\n",
       "      <td>8.3</td>\n",
       "      <td>15.2</td>\n",
       "      <td>15.6</td>\n",
       "    </tr>\n",
       "    <tr>\n",
       "      <th>13</th>\n",
       "      <td>x36 (closed t)</td>\n",
       "      <td>36.1</td>\n",
       "      <td>30.3</td>\n",
       "      <td>31.3</td>\n",
       "    </tr>\n",
       "    <tr>\n",
       "      <th>14</th>\n",
       "      <td>x46 (mixed t shapes)</td>\n",
       "      <td>16.7</td>\n",
       "      <td>20.4</td>\n",
       "      <td>28.1</td>\n",
       "    </tr>\n",
       "  </tbody>\n",
       "</table>\n",
       "</div>"
      ],
      "text/plain": [
       "                       x3 x03 (rounded arch) x13 (pointed arch)  \\\n",
       "0                   Total                 18                 66   \n",
       "1    x02 (retraced staff)               19.4               31.1   \n",
       "2      x12 (curved right)               47.2               31.8   \n",
       "3       x22 (curved left)                2.8               3.03   \n",
       "4       x32 (both curved)               16.7               18.2   \n",
       "5        x42 (no pattern)               13.9               15.9   \n",
       "6            x05 (upward)               36.1               39.4   \n",
       "7          x15 (downward)                8.3               11.4   \n",
       "8              x25 (even)               22.2                9.1   \n",
       "9        x35 (no pattern)               33.3               40.2   \n",
       "10         x06 (tented t)                  0                2.3   \n",
       "11  x16 (single stroke t)               38.9               31.8   \n",
       "12         x26 (looped t)                8.3               15.2   \n",
       "13         x36 (closed t)               36.1               30.3   \n",
       "14   x46 (mixed t shapes)               16.7               20.4   \n",
       "\n",
       "   x23 (no pattern)  \n",
       "0                16  \n",
       "1              21.9  \n",
       "2              15.6  \n",
       "3                 0  \n",
       "4              12.5  \n",
       "5                50  \n",
       "6              31.3  \n",
       "7              12.5  \n",
       "8               3.1  \n",
       "9              53.1  \n",
       "10                0  \n",
       "11               25  \n",
       "12             15.6  \n",
       "13             31.3  \n",
       "14             28.1  "
      ]
     },
     "metadata": {},
     "output_type": "display_data"
    },
    {
     "name": "stdout",
     "output_type": "stream",
     "text": [
      "----------------------------------------------------------------------------\n",
      "============================================================================\n",
      "CPD 4\n",
      "============================================================================\n"
     ]
    },
    {
     "data": {
      "text/html": [
       "<div>\n",
       "<style scoped>\n",
       "    .dataframe tbody tr th:only-of-type {\n",
       "        vertical-align: middle;\n",
       "    }\n",
       "\n",
       "    .dataframe tbody tr th {\n",
       "        vertical-align: top;\n",
       "    }\n",
       "\n",
       "    .dataframe thead th {\n",
       "        text-align: right;\n",
       "    }\n",
       "</style>\n",
       "<table border=\"1\" class=\"dataframe\">\n",
       "  <thead>\n",
       "    <tr style=\"text-align: right;\">\n",
       "      <th></th>\n",
       "      <th>x4</th>\n",
       "      <th>x04 (upper staff)</th>\n",
       "      <th>x14 (lower staff)</th>\n",
       "      <th>x24 (above staff)</th>\n",
       "      <th>x34 (no pattern)</th>\n",
       "    </tr>\n",
       "  </thead>\n",
       "  <tbody>\n",
       "    <tr>\n",
       "      <th>0</th>\n",
       "      <td>Total</td>\n",
       "      <td>71.5</td>\n",
       "      <td>10.5</td>\n",
       "      <td>1</td>\n",
       "      <td>17</td>\n",
       "    </tr>\n",
       "    <tr>\n",
       "      <th>1</th>\n",
       "      <td>x01 (t shorter than h)</td>\n",
       "      <td>80.4</td>\n",
       "      <td>57.1</td>\n",
       "      <td>100</td>\n",
       "      <td>79.4</td>\n",
       "    </tr>\n",
       "    <tr>\n",
       "      <th>2</th>\n",
       "      <td>x11 (t even with h)</td>\n",
       "      <td>2.1</td>\n",
       "      <td>0</td>\n",
       "      <td>0</td>\n",
       "      <td>0</td>\n",
       "    </tr>\n",
       "    <tr>\n",
       "      <th>3</th>\n",
       "      <td>x21 (t taller than h)</td>\n",
       "      <td>5.6</td>\n",
       "      <td>14.3</td>\n",
       "      <td>0</td>\n",
       "      <td>0</td>\n",
       "    </tr>\n",
       "    <tr>\n",
       "      <th>4</th>\n",
       "      <td>x31 (no set pattern)</td>\n",
       "      <td>11.9</td>\n",
       "      <td>28.6</td>\n",
       "      <td>0</td>\n",
       "      <td>20.6</td>\n",
       "    </tr>\n",
       "    <tr>\n",
       "      <th>5</th>\n",
       "      <td>x02 (retraced staff)</td>\n",
       "      <td>30.8</td>\n",
       "      <td>23.8</td>\n",
       "      <td>0</td>\n",
       "      <td>17.6</td>\n",
       "    </tr>\n",
       "    <tr>\n",
       "      <th>6</th>\n",
       "      <td>x12 (curved right)</td>\n",
       "      <td>32.2</td>\n",
       "      <td>28.6</td>\n",
       "      <td>100</td>\n",
       "      <td>32.3</td>\n",
       "    </tr>\n",
       "    <tr>\n",
       "      <th>7</th>\n",
       "      <td>x22 (curved left)</td>\n",
       "      <td>2.8</td>\n",
       "      <td>0</td>\n",
       "      <td>0</td>\n",
       "      <td>2.9</td>\n",
       "    </tr>\n",
       "    <tr>\n",
       "      <th>8</th>\n",
       "      <td>x32 (both curved)</td>\n",
       "      <td>15.4</td>\n",
       "      <td>19</td>\n",
       "      <td>0</td>\n",
       "      <td>23.5</td>\n",
       "    </tr>\n",
       "    <tr>\n",
       "      <th>9</th>\n",
       "      <td>x42 (no pattern)</td>\n",
       "      <td>19.6</td>\n",
       "      <td>28.6</td>\n",
       "      <td>0</td>\n",
       "      <td>23.5</td>\n",
       "    </tr>\n",
       "    <tr>\n",
       "      <th>10</th>\n",
       "      <td>x06 (tented t)</td>\n",
       "      <td>2.1</td>\n",
       "      <td>0</td>\n",
       "      <td>0</td>\n",
       "      <td>0</td>\n",
       "    </tr>\n",
       "    <tr>\n",
       "      <th>11</th>\n",
       "      <td>x16 (single stroke t)</td>\n",
       "      <td>28</td>\n",
       "      <td>57.1</td>\n",
       "      <td>0</td>\n",
       "      <td>35.3</td>\n",
       "    </tr>\n",
       "    <tr>\n",
       "      <th>12</th>\n",
       "      <td>x26 (looped t)</td>\n",
       "      <td>15.4</td>\n",
       "      <td>14.3</td>\n",
       "      <td>0</td>\n",
       "      <td>8.8</td>\n",
       "    </tr>\n",
       "    <tr>\n",
       "      <th>13</th>\n",
       "      <td>x36 (closed t)</td>\n",
       "      <td>32.9</td>\n",
       "      <td>19</td>\n",
       "      <td>50</td>\n",
       "      <td>32.3</td>\n",
       "    </tr>\n",
       "    <tr>\n",
       "      <th>14</th>\n",
       "      <td>x46 (mixed t)</td>\n",
       "      <td>21.7</td>\n",
       "      <td>9.5</td>\n",
       "      <td>50</td>\n",
       "      <td>23.5</td>\n",
       "    </tr>\n",
       "  </tbody>\n",
       "</table>\n",
       "</div>"
      ],
      "text/plain": [
       "                        x4 x04 (upper staff) x14 (lower staff)  \\\n",
       "0                    Total              71.5              10.5   \n",
       "1   x01 (t shorter than h)              80.4              57.1   \n",
       "2      x11 (t even with h)               2.1                 0   \n",
       "3    x21 (t taller than h)               5.6              14.3   \n",
       "4     x31 (no set pattern)              11.9              28.6   \n",
       "5     x02 (retraced staff)              30.8              23.8   \n",
       "6       x12 (curved right)              32.2              28.6   \n",
       "7        x22 (curved left)               2.8                 0   \n",
       "8        x32 (both curved)              15.4                19   \n",
       "9         x42 (no pattern)              19.6              28.6   \n",
       "10          x06 (tented t)               2.1                 0   \n",
       "11   x16 (single stroke t)                28              57.1   \n",
       "12          x26 (looped t)              15.4              14.3   \n",
       "13          x36 (closed t)              32.9                19   \n",
       "14           x46 (mixed t)              21.7               9.5   \n",
       "\n",
       "   x24 (above staff) x34 (no pattern)  \n",
       "0                  1               17  \n",
       "1                100             79.4  \n",
       "2                  0                0  \n",
       "3                  0                0  \n",
       "4                  0             20.6  \n",
       "5                  0             17.6  \n",
       "6                100             32.3  \n",
       "7                  0              2.9  \n",
       "8                  0             23.5  \n",
       "9                  0             23.5  \n",
       "10                 0                0  \n",
       "11                 0             35.3  \n",
       "12                 0              8.8  \n",
       "13                50             32.3  \n",
       "14                50             23.5  "
      ]
     },
     "metadata": {},
     "output_type": "display_data"
    },
    {
     "name": "stdout",
     "output_type": "stream",
     "text": [
      "----------------------------------------------------------------------------\n",
      "============================================================================\n",
      "CPD 5\n",
      "============================================================================\n"
     ]
    },
    {
     "data": {
      "text/html": [
       "<div>\n",
       "<style scoped>\n",
       "    .dataframe tbody tr th:only-of-type {\n",
       "        vertical-align: middle;\n",
       "    }\n",
       "\n",
       "    .dataframe tbody tr th {\n",
       "        vertical-align: top;\n",
       "    }\n",
       "\n",
       "    .dataframe thead th {\n",
       "        text-align: right;\n",
       "    }\n",
       "</style>\n",
       "<table border=\"1\" class=\"dataframe\">\n",
       "  <thead>\n",
       "    <tr style=\"text-align: right;\">\n",
       "      <th></th>\n",
       "      <th>x5</th>\n",
       "      <th>x05 (upward)</th>\n",
       "      <th>x15 (downward)</th>\n",
       "      <th>x25 (even)</th>\n",
       "      <th>x35 (no pattern)</th>\n",
       "    </tr>\n",
       "  </thead>\n",
       "  <tbody>\n",
       "    <tr>\n",
       "      <th>0</th>\n",
       "      <td>Total</td>\n",
       "      <td>37.5</td>\n",
       "      <td>11</td>\n",
       "      <td>10.5</td>\n",
       "      <td>41</td>\n",
       "    </tr>\n",
       "    <tr>\n",
       "      <th>1</th>\n",
       "      <td>x02 (retraced staff)</td>\n",
       "      <td>30.7</td>\n",
       "      <td>18.2</td>\n",
       "      <td>28.6</td>\n",
       "      <td>26.8</td>\n",
       "    </tr>\n",
       "    <tr>\n",
       "      <th>2</th>\n",
       "      <td>x12 (curved right)</td>\n",
       "      <td>29.3</td>\n",
       "      <td>31.8</td>\n",
       "      <td>38.1</td>\n",
       "      <td>32.9</td>\n",
       "    </tr>\n",
       "    <tr>\n",
       "      <th>3</th>\n",
       "      <td>x22 (curved left)</td>\n",
       "      <td>4</td>\n",
       "      <td>9.1</td>\n",
       "      <td>0</td>\n",
       "      <td>0</td>\n",
       "    </tr>\n",
       "    <tr>\n",
       "      <th>4</th>\n",
       "      <td>x32 (both curved)</td>\n",
       "      <td>17.3</td>\n",
       "      <td>22.7</td>\n",
       "      <td>19</td>\n",
       "      <td>14.6</td>\n",
       "    </tr>\n",
       "    <tr>\n",
       "      <th>5</th>\n",
       "      <td>x42 (no pattern)</td>\n",
       "      <td>18.2</td>\n",
       "      <td>18.2</td>\n",
       "      <td>14.3</td>\n",
       "      <td>25.6</td>\n",
       "    </tr>\n",
       "    <tr>\n",
       "      <th>6</th>\n",
       "      <td>x03 (rounded arch)</td>\n",
       "      <td>17.3</td>\n",
       "      <td>13.6</td>\n",
       "      <td>38.1</td>\n",
       "      <td>14.6</td>\n",
       "    </tr>\n",
       "    <tr>\n",
       "      <th>7</th>\n",
       "      <td>x13 (pointed arch)</td>\n",
       "      <td>69.3</td>\n",
       "      <td>68.2</td>\n",
       "      <td>57.1</td>\n",
       "      <td>64.6</td>\n",
       "    </tr>\n",
       "    <tr>\n",
       "      <th>8</th>\n",
       "      <td>x23 (no pattern)</td>\n",
       "      <td>13.3</td>\n",
       "      <td>18.2</td>\n",
       "      <td>4.8</td>\n",
       "      <td>20.7</td>\n",
       "    </tr>\n",
       "  </tbody>\n",
       "</table>\n",
       "</div>"
      ],
      "text/plain": [
       "                     x5 x05 (upward) x15 (downward) x25 (even)  \\\n",
       "0                 Total         37.5             11       10.5   \n",
       "1  x02 (retraced staff)         30.7           18.2       28.6   \n",
       "2    x12 (curved right)         29.3           31.8       38.1   \n",
       "3     x22 (curved left)            4            9.1          0   \n",
       "4     x32 (both curved)         17.3           22.7         19   \n",
       "5      x42 (no pattern)         18.2           18.2       14.3   \n",
       "6    x03 (rounded arch)         17.3           13.6       38.1   \n",
       "7    x13 (pointed arch)         69.3           68.2       57.1   \n",
       "8      x23 (no pattern)         13.3           18.2        4.8   \n",
       "\n",
       "  x35 (no pattern)  \n",
       "0               41  \n",
       "1             26.8  \n",
       "2             32.9  \n",
       "3                0  \n",
       "4             14.6  \n",
       "5             25.6  \n",
       "6             14.6  \n",
       "7             64.6  \n",
       "8             20.7  "
      ]
     },
     "metadata": {},
     "output_type": "display_data"
    },
    {
     "name": "stdout",
     "output_type": "stream",
     "text": [
      "----------------------------------------------------------------------------\n",
      "============================================================================\n",
      "CPD 6\n",
      "============================================================================\n"
     ]
    },
    {
     "data": {
      "text/html": [
       "<div>\n",
       "<style scoped>\n",
       "    .dataframe tbody tr th:only-of-type {\n",
       "        vertical-align: middle;\n",
       "    }\n",
       "\n",
       "    .dataframe tbody tr th {\n",
       "        vertical-align: top;\n",
       "    }\n",
       "\n",
       "    .dataframe thead th {\n",
       "        text-align: right;\n",
       "    }\n",
       "</style>\n",
       "<table border=\"1\" class=\"dataframe\">\n",
       "  <thead>\n",
       "    <tr style=\"text-align: right;\">\n",
       "      <th></th>\n",
       "      <th>x6</th>\n",
       "      <th>x06 (tented)</th>\n",
       "      <th>x16 (single stroke)</th>\n",
       "      <th>x26 (looped)</th>\n",
       "      <th>x36 (closed)</th>\n",
       "      <th>x46 (mixed)</th>\n",
       "    </tr>\n",
       "  </thead>\n",
       "  <tbody>\n",
       "    <tr>\n",
       "      <th>0</th>\n",
       "      <td>Total</td>\n",
       "      <td>1.5</td>\n",
       "      <td>32</td>\n",
       "      <td>14</td>\n",
       "      <td>31.5</td>\n",
       "      <td>21</td>\n",
       "    </tr>\n",
       "    <tr>\n",
       "      <th>1</th>\n",
       "      <td>x01 (t shorter than h)</td>\n",
       "      <td>100</td>\n",
       "      <td>68.7</td>\n",
       "      <td>71.4</td>\n",
       "      <td>87.3</td>\n",
       "      <td>80.9</td>\n",
       "    </tr>\n",
       "    <tr>\n",
       "      <th>2</th>\n",
       "      <td>x11 (t even with h)</td>\n",
       "      <td>0</td>\n",
       "      <td>3.1</td>\n",
       "      <td>3.6</td>\n",
       "      <td>0</td>\n",
       "      <td>0</td>\n",
       "    </tr>\n",
       "    <tr>\n",
       "      <th>3</th>\n",
       "      <td>x21 (t taller than h)</td>\n",
       "      <td>0</td>\n",
       "      <td>9.4</td>\n",
       "      <td>3.6</td>\n",
       "      <td>3.2</td>\n",
       "      <td>4.8</td>\n",
       "    </tr>\n",
       "    <tr>\n",
       "      <th>4</th>\n",
       "      <td>x31 (no set pattern)</td>\n",
       "      <td>0</td>\n",
       "      <td>18.7</td>\n",
       "      <td>21.4</td>\n",
       "      <td>9.5</td>\n",
       "      <td>14.3</td>\n",
       "    </tr>\n",
       "    <tr>\n",
       "      <th>5</th>\n",
       "      <td>x02 (retraced staff)</td>\n",
       "      <td>0</td>\n",
       "      <td>28.1</td>\n",
       "      <td>21.4</td>\n",
       "      <td>31.7</td>\n",
       "      <td>26.2</td>\n",
       "    </tr>\n",
       "    <tr>\n",
       "      <th>6</th>\n",
       "      <td>x12 (curved right)</td>\n",
       "      <td>33.3</td>\n",
       "      <td>29.6</td>\n",
       "      <td>39.2</td>\n",
       "      <td>31.7</td>\n",
       "      <td>30.9</td>\n",
       "    </tr>\n",
       "    <tr>\n",
       "      <th>7</th>\n",
       "      <td>x22 (curved left)</td>\n",
       "      <td>0</td>\n",
       "      <td>0</td>\n",
       "      <td>0</td>\n",
       "      <td>7.9</td>\n",
       "      <td>0</td>\n",
       "    </tr>\n",
       "    <tr>\n",
       "      <th>8</th>\n",
       "      <td>x32 (both curved)</td>\n",
       "      <td>66.6</td>\n",
       "      <td>23.4</td>\n",
       "      <td>14.2</td>\n",
       "      <td>9.5</td>\n",
       "      <td>16.7</td>\n",
       "    </tr>\n",
       "    <tr>\n",
       "      <th>9</th>\n",
       "      <td>x42 (no pattern)</td>\n",
       "      <td>0</td>\n",
       "      <td>18.7</td>\n",
       "      <td>25</td>\n",
       "      <td>19</td>\n",
       "      <td>26.2</td>\n",
       "    </tr>\n",
       "    <tr>\n",
       "      <th>10</th>\n",
       "      <td>x03 (rounded arch)</td>\n",
       "      <td>0</td>\n",
       "      <td>21.8</td>\n",
       "      <td>38.1</td>\n",
       "      <td>20.6</td>\n",
       "      <td>14.3</td>\n",
       "    </tr>\n",
       "    <tr>\n",
       "      <th>11</th>\n",
       "      <td>x13 (pointed arch)</td>\n",
       "      <td>100</td>\n",
       "      <td>65.6</td>\n",
       "      <td>57.1</td>\n",
       "      <td>63.5</td>\n",
       "      <td>64.3</td>\n",
       "    </tr>\n",
       "    <tr>\n",
       "      <th>12</th>\n",
       "      <td>x23 (no pattern)</td>\n",
       "      <td>0</td>\n",
       "      <td>12.5</td>\n",
       "      <td>4.1</td>\n",
       "      <td>15.9</td>\n",
       "      <td>21.4</td>\n",
       "    </tr>\n",
       "    <tr>\n",
       "      <th>13</th>\n",
       "      <td>x04 (upper staff)</td>\n",
       "      <td>100</td>\n",
       "      <td>62.5</td>\n",
       "      <td>78.6</td>\n",
       "      <td>74.6</td>\n",
       "      <td>73.8</td>\n",
       "    </tr>\n",
       "    <tr>\n",
       "      <th>14</th>\n",
       "      <td>x14 (lower staff)</td>\n",
       "      <td>0</td>\n",
       "      <td>18.7</td>\n",
       "      <td>10.7</td>\n",
       "      <td>6.3</td>\n",
       "      <td>4.8</td>\n",
       "    </tr>\n",
       "    <tr>\n",
       "      <th>15</th>\n",
       "      <td>x24 (above staff)</td>\n",
       "      <td>0</td>\n",
       "      <td>0</td>\n",
       "      <td>0</td>\n",
       "      <td>1.6</td>\n",
       "      <td>2.4</td>\n",
       "    </tr>\n",
       "    <tr>\n",
       "      <th>16</th>\n",
       "      <td>x34 (no pattern)</td>\n",
       "      <td>0</td>\n",
       "      <td>18.7</td>\n",
       "      <td>10.7</td>\n",
       "      <td>17.5</td>\n",
       "      <td>19</td>\n",
       "    </tr>\n",
       "  </tbody>\n",
       "</table>\n",
       "</div>"
      ],
      "text/plain": [
       "                        x6 x06 (tented) x16 (single stroke) x26 (looped)  \\\n",
       "0                    Total          1.5                  32           14   \n",
       "1   x01 (t shorter than h)          100                68.7         71.4   \n",
       "2      x11 (t even with h)            0                 3.1          3.6   \n",
       "3    x21 (t taller than h)            0                 9.4          3.6   \n",
       "4     x31 (no set pattern)            0                18.7         21.4   \n",
       "5     x02 (retraced staff)            0                28.1         21.4   \n",
       "6       x12 (curved right)         33.3                29.6         39.2   \n",
       "7        x22 (curved left)            0                   0            0   \n",
       "8        x32 (both curved)         66.6                23.4         14.2   \n",
       "9         x42 (no pattern)            0                18.7           25   \n",
       "10      x03 (rounded arch)            0                21.8         38.1   \n",
       "11      x13 (pointed arch)          100                65.6         57.1   \n",
       "12        x23 (no pattern)            0                12.5          4.1   \n",
       "13      x04 (upper staff)           100                62.5         78.6   \n",
       "14      x14 (lower staff)             0                18.7         10.7   \n",
       "15      x24 (above staff)             0                   0            0   \n",
       "16        x34 (no pattern)            0                18.7         10.7   \n",
       "\n",
       "   x36 (closed) x46 (mixed)  \n",
       "0          31.5          21  \n",
       "1          87.3        80.9  \n",
       "2             0           0  \n",
       "3           3.2         4.8  \n",
       "4           9.5        14.3  \n",
       "5          31.7        26.2  \n",
       "6          31.7        30.9  \n",
       "7           7.9           0  \n",
       "8           9.5        16.7  \n",
       "9            19        26.2  \n",
       "10         20.6        14.3  \n",
       "11         63.5        64.3  \n",
       "12         15.9        21.4  \n",
       "13         74.6        73.8  \n",
       "14          6.3         4.8  \n",
       "15          1.6         2.4  \n",
       "16         17.5          19  "
      ]
     },
     "metadata": {},
     "output_type": "display_data"
    },
    {
     "name": "stdout",
     "output_type": "stream",
     "text": [
      "----------------------------------------------------------------------------\n"
     ]
    }
   ],
   "source": [
    "for i in range(6):\n",
    "    print('='*76)\n",
    "    print ('CPD '+str(i+1))\n",
    "    print('='*76)\n",
    "    display(CondProbDist[i])\n",
    "    print('-'*76)"
   ]
  },
  {
   "cell_type": "code",
   "execution_count": 33,
   "metadata": {
    "ExecuteTime": {
     "end_time": "2019-04-04T22:15:34.437710Z",
     "start_time": "2019-04-04T22:15:34.412138Z"
    },
    "scrolled": false
   },
   "outputs": [
    {
     "data": {
      "text/html": [
       "<div>\n",
       "<style scoped>\n",
       "    .dataframe tbody tr th:only-of-type {\n",
       "        vertical-align: middle;\n",
       "    }\n",
       "\n",
       "    .dataframe tbody tr th {\n",
       "        vertical-align: top;\n",
       "    }\n",
       "\n",
       "    .dataframe thead th {\n",
       "        text-align: right;\n",
       "    }\n",
       "</style>\n",
       "<table border=\"1\" class=\"dataframe\">\n",
       "  <thead>\n",
       "    <tr style=\"text-align: right;\">\n",
       "      <th></th>\n",
       "      <th>Values</th>\n",
       "      <th>x1 (Relative height to t to h)</th>\n",
       "      <th>x2 (Shape of h loop)</th>\n",
       "      <th>x3 (Shape of h arch)</th>\n",
       "      <th>x4 (Height of Cross )</th>\n",
       "      <th>x5 (Baseline of h)</th>\n",
       "      <th>x6 (Shape of t)</th>\n",
       "    </tr>\n",
       "  </thead>\n",
       "  <tbody>\n",
       "    <tr>\n",
       "      <th>0</th>\n",
       "      <td>a = x0</td>\n",
       "      <td>78</td>\n",
       "      <td>27.5</td>\n",
       "      <td>18</td>\n",
       "      <td>71.5</td>\n",
       "      <td>37.5</td>\n",
       "      <td>1.5</td>\n",
       "    </tr>\n",
       "    <tr>\n",
       "      <th>1</th>\n",
       "      <td>b = x1</td>\n",
       "      <td>1.5</td>\n",
       "      <td>32</td>\n",
       "      <td>66</td>\n",
       "      <td>10.5</td>\n",
       "      <td>11</td>\n",
       "      <td>32</td>\n",
       "    </tr>\n",
       "    <tr>\n",
       "      <th>2</th>\n",
       "      <td>c = x2</td>\n",
       "      <td>5.5</td>\n",
       "      <td>2.5</td>\n",
       "      <td>16</td>\n",
       "      <td>1</td>\n",
       "      <td>10.5</td>\n",
       "      <td>14</td>\n",
       "    </tr>\n",
       "    <tr>\n",
       "      <th>3</th>\n",
       "      <td>d = x3</td>\n",
       "      <td>15</td>\n",
       "      <td>17</td>\n",
       "      <td>NaN</td>\n",
       "      <td>17</td>\n",
       "      <td>41</td>\n",
       "      <td>31.5</td>\n",
       "    </tr>\n",
       "    <tr>\n",
       "      <th>4</th>\n",
       "      <td>e = x4</td>\n",
       "      <td>NaN</td>\n",
       "      <td>21</td>\n",
       "      <td>NaN</td>\n",
       "      <td>NaN</td>\n",
       "      <td>NaN</td>\n",
       "      <td>21</td>\n",
       "    </tr>\n",
       "  </tbody>\n",
       "</table>\n",
       "</div>"
      ],
      "text/plain": [
       "   Values x1 (Relative height to t to h) x2 (Shape of h loop)  \\\n",
       "0  a = x0                             78                 27.5   \n",
       "1  b = x1                            1.5                   32   \n",
       "2  c = x2                            5.5                  2.5   \n",
       "3  d = x3                             15                   17   \n",
       "4  e = x4                            NaN                   21   \n",
       "\n",
       "  x3 (Shape of h arch) x4 (Height of Cross ) x5 (Baseline of h)  \\\n",
       "0                   18                  71.5               37.5   \n",
       "1                   66                  10.5                 11   \n",
       "2                   16                     1               10.5   \n",
       "3                  NaN                    17                 41   \n",
       "4                  NaN                   NaN                NaN   \n",
       "\n",
       "  x6 (Shape of t)  \n",
       "0             1.5  \n",
       "1              32  \n",
       "2              14  \n",
       "3            31.5  \n",
       "4              21  "
      ]
     },
     "execution_count": 33,
     "metadata": {},
     "output_type": "execute_result"
    }
   ],
   "source": [
    "x_len = [0,4,5,3,4,4,5]\n",
    "MargProb\n"
   ]
  },
  {
   "cell_type": "markdown",
   "metadata": {},
   "source": [
    "### Here we define a function to calculate the product of probabilites of corresponding variables using the Marginal Probabilities of the Variables."
   ]
  },
  {
   "cell_type": "code",
   "execution_count": 34,
   "metadata": {
    "ExecuteTime": {
     "end_time": "2019-04-04T22:15:36.015524Z",
     "start_time": "2019-04-04T22:15:36.006183Z"
    },
    "init_cell": true
   },
   "outputs": [],
   "source": [
    "def MulMargProb(x, y):\n",
    "    x_val = MargProb.iloc[:,x].values\n",
    "    y_val = MargProb.iloc[:,y].values\n",
    "    prodXY = []\n",
    "    for i in range(len(x_val)):\n",
    "        pXY = []\n",
    "        for j in range(len(y_val)):\n",
    "            pXY.append(float(x_val[i])*float(y_val[j]))\n",
    "        prodXY.append(pXY)\n",
    "    return prodXY"
   ]
  },
  {
   "cell_type": "markdown",
   "metadata": {},
   "source": [
    "### Joint Probability of the Variables are calculated using the CPD Tables provided."
   ]
  },
  {
   "cell_type": "code",
   "execution_count": 35,
   "metadata": {
    "ExecuteTime": {
     "end_time": "2019-04-04T22:15:36.802557Z",
     "start_time": "2019-04-04T22:15:36.794137Z"
    },
    "code_folding": [],
    "init_cell": true
   },
   "outputs": [],
   "source": [
    "def jointProb(p, c):\n",
    "    jP = []\n",
    "    for i in range(len(c)):\n",
    "        tempJp = []\n",
    "        for j in range(p.shape[0]):\n",
    "            tempJp.append(float(p[j][i]) * float(c[i]))\n",
    "        jP.append(tempJp)\n",
    "    jP = np.asarray(jP)\n",
    "    return jP\n",
    "        #print(np.asarray(jp).T)"
   ]
  },
  {
   "cell_type": "markdown",
   "metadata": {},
   "source": [
    "### Comparing both by subtracting"
   ]
  },
  {
   "cell_type": "code",
   "execution_count": 36,
   "metadata": {
    "ExecuteTime": {
     "end_time": "2019-04-04T22:15:37.766582Z",
     "start_time": "2019-04-04T22:15:37.740433Z"
    },
    "init_cell": true
   },
   "outputs": [],
   "source": [
    "def check_independence():\n",
    "    ind_dic = {}\n",
    "    ind_dic['12'] = abs(jointProb(p12,c1) - m12).sum()/10000\n",
    "    ind_dic['14'] = abs(jointProb(p14,c1) - m14).sum()/10000\n",
    "    ind_dic['16'] = abs(jointProb(p16,c1) - m16).sum()/10000\n",
    "    \n",
    "    ind_dic['23'] = abs(jointProb(p23,c2) - m23).sum()/10000\n",
    "    ind_dic['25'] = abs(jointProb(p25,c2) - m25).sum()/10000\n",
    "    \n",
    "    ind_dic['32'] = abs(jointProb(p32,c3) - m32).sum()/10000\n",
    "    ind_dic['35'] = abs(jointProb(p35,c3) - m35).sum()/10000\n",
    "    ind_dic['36'] = abs(jointProb(p36,c3) - m36).sum()/10000\n",
    "    \n",
    "    ind_dic['41'] = abs(jointProb(p41,c4) - m41).sum()/10000\n",
    "    ind_dic['42'] = abs(jointProb(p42,c4) - m42).sum()/10000\n",
    "    ind_dic['46'] = abs(jointProb(p46,c4) - m46).sum()/10000\n",
    "    \n",
    "    ind_dic['52'] = abs(jointProb(p52,c5) - m52).sum()/10000\n",
    "    ind_dic['53'] = abs(jointProb(p53,c5) - m53).sum()/10000\n",
    "\n",
    "    ind_dic['61'] = abs(jointProb(p61,c6) - m61).sum()/10000\n",
    "    ind_dic['62'] = abs(jointProb(p62,c6) - m62).sum()/10000\n",
    "    ind_dic['63'] = abs(jointProb(p63,c6) - m63).sum()/10000\n",
    "    ind_dic['64'] = abs(jointProb(p64,c6) - m64).sum()/10000\n",
    "    \n",
    "    return (ind_dic)\n"
   ]
  },
  {
   "cell_type": "code",
   "execution_count": null,
   "metadata": {},
   "outputs": [],
   "source": []
  },
  {
   "cell_type": "code",
   "execution_count": 37,
   "metadata": {
    "ExecuteTime": {
     "end_time": "2019-04-04T22:15:40.032425Z",
     "start_time": "2019-04-04T22:15:40.020931Z"
    },
    "code_folding": [],
    "init_cell": true
   },
   "outputs": [],
   "source": [
    "probDist = CondProbDist[0]\n",
    "p12 = probDist.iloc[1:6,1:].values\n",
    "c1 = probDist.iloc[0,1:].values\n",
    "p14 = probDist.iloc[6:10,1:].values\n",
    "p16 = probDist.iloc[10:,1:].values\n",
    "\n",
    "m12 = MulMargProb(1,2)[:4]\n",
    "m14 = np.asarray(MulMargProb(1,4)[:4]).T[:4].T.tolist()\n",
    "m16 = MulMargProb(1,6)[:4]\n",
    "\n"
   ]
  },
  {
   "cell_type": "code",
   "execution_count": 38,
   "metadata": {
    "ExecuteTime": {
     "end_time": "2019-04-04T22:15:40.849232Z",
     "start_time": "2019-04-04T22:15:40.839117Z"
    },
    "code_folding": [],
    "init_cell": true
   },
   "outputs": [],
   "source": [
    "probDist = CondProbDist[1]\n",
    "#display(probDist)\n",
    "c2 = probDist.iloc[0,1:].values\n",
    "p23 = probDist.iloc[1:4,1:].values\n",
    "p25 = probDist.iloc[4:,1:].values\n",
    "\n",
    "m23 = np.asarray(MulMargProb(2,3)).T[:3].T.tolist()\n",
    "m25 = np.asarray(MulMargProb(2,5)).T[:4].T.tolist()\n"
   ]
  },
  {
   "cell_type": "code",
   "execution_count": 39,
   "metadata": {
    "ExecuteTime": {
     "end_time": "2019-04-04T22:15:41.442621Z",
     "start_time": "2019-04-04T22:15:41.427862Z"
    },
    "init_cell": true
   },
   "outputs": [],
   "source": [
    "probDist = CondProbDist[2]\n",
    "#display(probDist)\n",
    "c3 = probDist.iloc[0,1:].values\n",
    "p32 = probDist.iloc[1:6,1:].values\n",
    "p35 = probDist.iloc[6:10,1:].values\n",
    "p36 = probDist.iloc[10:,1:].values\n",
    "\n",
    "m32 = MulMargProb(3,2)[:3]\n",
    "m35 = np.asarray(MulMargProb(3,5)[:3]).T[:4].T.tolist()\n",
    "m36 = MulMargProb(3,6)[:3]\n",
    "\n"
   ]
  },
  {
   "cell_type": "code",
   "execution_count": 40,
   "metadata": {
    "ExecuteTime": {
     "end_time": "2019-04-04T22:15:41.979521Z",
     "start_time": "2019-04-04T22:15:41.960142Z"
    },
    "init_cell": true
   },
   "outputs": [],
   "source": [
    "probDist = CondProbDist[3]\n",
    "#display(probDist)\n",
    "c4 = probDist.iloc[0,1:].values\n",
    "p41 = probDist.iloc[1:5,1:].values\n",
    "p42 = probDist.iloc[5:10,1:].values\n",
    "p46 = probDist.iloc[10:,1:].values\n",
    "\n",
    "m41 = np.asarray(MulMargProb(4,1)[:4]).T[:4].T.tolist()\n",
    "m42 = MulMargProb(4,2)[:4]\n",
    "m46 = MulMargProb(4,6)[:4]\n"
   ]
  },
  {
   "cell_type": "code",
   "execution_count": 41,
   "metadata": {
    "ExecuteTime": {
     "end_time": "2019-04-04T22:15:42.411263Z",
     "start_time": "2019-04-04T22:15:42.398893Z"
    },
    "init_cell": true
   },
   "outputs": [],
   "source": [
    "probDist = CondProbDist[4]\n",
    "#display(probDist)\n",
    "c5 = probDist.iloc[0,1:].values\n",
    "p52 = probDist.iloc[1:6,1:].values\n",
    "p53 = probDist.iloc[6:,1:].values\n",
    "\n",
    "m52 = MulMargProb(5,2)[:4]\n",
    "m53 = np.asarray(MulMargProb(5,3)[:4]).T[:3].T.tolist()\n"
   ]
  },
  {
   "cell_type": "code",
   "execution_count": 42,
   "metadata": {
    "ExecuteTime": {
     "end_time": "2019-04-04T22:15:43.430373Z",
     "start_time": "2019-04-04T22:15:43.414540Z"
    },
    "init_cell": true
   },
   "outputs": [],
   "source": [
    "probDist = CondProbDist[5]\n",
    "#display(probDist)\n",
    "c6 = probDist.iloc[0,1:].values\n",
    "p61 = probDist.iloc[1:5,1:].values\n",
    "p62 = probDist.iloc[5:10,1:].values\n",
    "p63 = probDist.iloc[10:13,1:].values\n",
    "p64 = probDist.iloc[13:,1:].values\n",
    "\n",
    "m61 = np.asarray(MulMargProb(6,1)[:]).T[:4].T.tolist()\n",
    "m62 = MulMargProb(6,2)[:]\n",
    "m63 = np.asarray(MulMargProb(6,3)[:]).T[:3].T.tolist()\n",
    "m64 = np.asarray(MulMargProb(6,4)[:]).T[:4].T.tolist()\n"
   ]
  },
  {
   "cell_type": "code",
   "execution_count": 43,
   "metadata": {
    "ExecuteTime": {
     "end_time": "2019-04-04T22:15:44.009920Z",
     "start_time": "2019-04-04T22:15:43.997023Z"
    }
   },
   "outputs": [
    {
     "data": {
      "text/plain": [
       "{'12': 0.15977,\n",
       " '14': 0.11943000000000004,\n",
       " '16': 0.16015500000000008,\n",
       " '23': 0.21852499999999994,\n",
       " '25': 0.12926000000000004,\n",
       " '32': 0.21875799999999998,\n",
       " '35': 0.11551999999999996,\n",
       " '36': 0.09564,\n",
       " '41': 0.11957000000000005,\n",
       " '42': 0.1157,\n",
       " '46': 0.14347,\n",
       " '52': 0.131265,\n",
       " '53': 0.11596500000000001,\n",
       " '61': 0.16036999999999996,\n",
       " '62': 0.175315,\n",
       " '63': 0.13116000000000003,\n",
       " '64': 0.14306999999999995}"
      ]
     },
     "execution_count": 43,
     "metadata": {},
     "output_type": "execute_result"
    }
   ],
   "source": [
    "independence_level = check_independence()\n",
    "independence_level"
   ]
  },
  {
   "cell_type": "markdown",
   "metadata": {},
   "source": [
    "# Part 2 - Constructing Bayesian Network\n",
    "We construct Bayseian Network by taking independence values which are high for a better model. \n",
    "## Storing Marginal and Conditional Probabilities in TabularCPD form for the model\n"
   ]
  },
  {
   "cell_type": "code",
   "execution_count": 44,
   "metadata": {
    "ExecuteTime": {
     "end_time": "2019-04-04T22:15:45.953872Z",
     "start_time": "2019-04-04T22:15:45.896846Z"
    }
   },
   "outputs": [
    {
     "data": {
      "text/plain": [
       "{'x1': <TabularCPD representing P(x1:4) at 0x1a18216470>,\n",
       " 'x2': <TabularCPD representing P(x2:5) at 0x1a182163c8>,\n",
       " 'x3': <TabularCPD representing P(x3:3) at 0x1a182164e0>,\n",
       " 'x4': <TabularCPD representing P(x4:4) at 0x1a18216518>,\n",
       " 'x5': <TabularCPD representing P(x5:4) at 0x1a18216550>,\n",
       " 'x6': <TabularCPD representing P(x6:5) at 0x1a18216400>,\n",
       " 'x12': <TabularCPD representing P(x2:5 | x1:4) at 0x1a18216438>,\n",
       " 'x14': <TabularCPD representing P(x4:4 | x1:4) at 0x1a18081b70>,\n",
       " 'x16': <TabularCPD representing P(x6:5 | x1:4) at 0x1a18216390>,\n",
       " 'x23': <TabularCPD representing P(x3:3 | x2:5) at 0x1a18216588>,\n",
       " 'x25': <TabularCPD representing P(x5:4 | x2:5) at 0x1a182165c0>,\n",
       " 'x32': <TabularCPD representing P(x2:5 | x3:3) at 0x1a182165f8>,\n",
       " 'x35': <TabularCPD representing P(x5:4 | x3:3) at 0x1a18216630>,\n",
       " 'x36': <TabularCPD representing P(x6:5 | x3:3) at 0x1a18216668>,\n",
       " 'x41': <TabularCPD representing P(x1:4 | x4:4) at 0x1a182166a0>,\n",
       " 'x42': <TabularCPD representing P(x2:5 | x4:4) at 0x1a182166d8>,\n",
       " 'x46': <TabularCPD representing P(x6:5 | x4:4) at 0x1a18216710>,\n",
       " 'x52': <TabularCPD representing P(x2:5 | x5:4) at 0x1a18216748>,\n",
       " 'x53': <TabularCPD representing P(x3:3 | x5:4) at 0x1a18216780>,\n",
       " 'x61': <TabularCPD representing P(x1:4 | x6:5) at 0x1a182167b8>,\n",
       " 'x62': <TabularCPD representing P(x2:5 | x6:5) at 0x1a182167f0>,\n",
       " 'x63': <TabularCPD representing P(x3:3 | x6:5) at 0x1a18216828>,\n",
       " 'x64': <TabularCPD representing P(x4:4 | x6:5) at 0x1a18216860>}"
      ]
     },
     "execution_count": 44,
     "metadata": {},
     "output_type": "execute_result"
    }
   ],
   "source": [
    "from pgmpy.models.BayesianModel import BayesianModel\n",
    "from pgmpy.factors.discrete import TabularCPD\n",
    "cpds = {}\n",
    "cpds['x1'] = TabularCPD('x1', 4 , [MargProb.iloc[:4,1].values.astype(float)/100])\n",
    "cpds['x2'] = TabularCPD('x2', 5 , [MargProb.iloc[:,2].values.astype(float)/100])\n",
    "cpds['x3'] = TabularCPD('x3', 3 , [MargProb.iloc[:3,3].values.astype(float)/100])\n",
    "cpds['x4'] = TabularCPD('x4', 4 , [MargProb.iloc[:4,4].values.astype(float)/100])\n",
    "cpds['x5'] = TabularCPD('x5', 4 , [MargProb.iloc[:4,5].values.astype(float)/100])\n",
    "cpds['x6'] = TabularCPD('x6', 5 , [MargProb.iloc[:,6].values.astype(float)/100])\n",
    "\n",
    "cpds['x12'] = TabularCPD('x2', x_len[2],p12.astype(float)/100, ['x1'], [x_len[1]])\n",
    "cpds['x14'] = TabularCPD('x4', x_len[4],p14.astype(float)/100, ['x1'], [x_len[1]])\n",
    "cpds['x16'] = TabularCPD('x6', x_len[6],p16.astype(float)/100, ['x1'], [x_len[1]])\n",
    "\n",
    "cpds['x23'] = TabularCPD('x3', x_len[3],p23.astype(float)/100, ['x2'], [x_len[2]])\n",
    "cpds['x25'] = TabularCPD('x5', x_len[5],p25.astype(float)/100, ['x2'], [x_len[2]])\n",
    "\n",
    "cpds['x32'] = TabularCPD('x2', x_len[2],p32.astype(float)/100, ['x3'], [x_len[3]])\n",
    "cpds['x35'] = TabularCPD('x5', x_len[5],p35.astype(float)/100, ['x3'], [x_len[3]])\n",
    "cpds['x36'] = TabularCPD('x6', x_len[6],p36.astype(float)/100, ['x3'], [x_len[3]])\n",
    "\n",
    "cpds['x41'] = TabularCPD('x1', x_len[1],p41.astype(float)/100, ['x4'], [x_len[4]])\n",
    "cpds['x42'] = TabularCPD('x2', x_len[2],p42.astype(float)/100, ['x4'], [x_len[4]])\n",
    "cpds['x46'] = TabularCPD('x6', x_len[6],p46.astype(float)/100, ['x4'], [x_len[4]])\n",
    "\n",
    "cpds['x52'] = TabularCPD('x2', x_len[2],p52.astype(float)/100, ['x5'], [x_len[5]])\n",
    "cpds['x53'] = TabularCPD('x3', x_len[3],p53.astype(float)/100, ['x5'], [x_len[5]])\n",
    "\n",
    "cpds['x61'] = TabularCPD('x1', x_len[1],p61.astype(float)/100, ['x6'], [x_len[6]])\n",
    "cpds['x62'] = TabularCPD('x2', x_len[2],p62.astype(float)/100, ['x6'], [x_len[6]])\n",
    "cpds['x63'] = TabularCPD('x3', x_len[3],p63.astype(float)/100, ['x6'], [x_len[6]])\n",
    "cpds['x64'] = TabularCPD('x4', x_len[4],p64.astype(float)/100, ['x6'], [x_len[6]])\n",
    "\n",
    "cpds"
   ]
  },
  {
   "cell_type": "code",
   "execution_count": 47,
   "metadata": {
    "ExecuteTime": {
     "end_time": "2019-04-04T23:12:13.947432Z",
     "start_time": "2019-04-04T23:12:13.918486Z"
    }
   },
   "outputs": [
    {
     "data": {
      "text/plain": [
       "array([0.78 , 0.015, 0.055, 0.15 ])"
      ]
     },
     "execution_count": 47,
     "metadata": {},
     "output_type": "execute_result"
    }
   ],
   "source": [
    "cpds['x1'].values"
   ]
  },
  {
   "cell_type": "markdown",
   "metadata": {},
   "source": [
    "## Setting up Different Bayesian Models to find a Good Model\n",
    "Add the links needed in the BayesianModel() and adding the corresponding CPD values with evidence (if needed) to the model. This allows the model to have the probabilities for each of the nodes considering its corresponding evidences.\n",
    "\n",
    "We are also converting the Bayesian Model into a Markov Model by 'BayesianModel.to_markov_model(). This makes a Markov Chain Model by utilizing the same nodes and relations betweent the features."
   ]
  },
  {
   "cell_type": "code",
   "execution_count": 32,
   "metadata": {
    "ExecuteTime": {
     "end_time": "2019-03-09T02:03:54.816226Z",
     "start_time": "2019-03-09T02:03:54.782641Z"
    }
   },
   "outputs": [
    {
     "name": "stderr",
     "output_type": "stream",
     "text": [
      "WARNING:root:Replacing existing CPD for x6\n"
     ]
    }
   ],
   "source": [
    "from pgmpy.models.BayesianModel import BayesianModel\n",
    "from pgmpy.factors.discrete import TabularCPD\n",
    "from pgmpy.sampling import BayesianModelSampling\n",
    "bModel = []\n",
    "k2_B = []\n",
    "k2_M = []\n",
    "data = []\n",
    "marModel = []\n",
    "\n",
    "bModel.append(BayesianModel([('x1', 'x2'), ('x1', 'x6'), ('x2', 'x3'), ('x6', 'x4'), ('x2', 'x5')]))\n",
    "bModel[0].add_cpds(cpds['x1'], cpds['x12'], cpds['x16'], cpds['x23'], cpds['x64'], cpds['x25'])\n",
    "marModel.append(bModel[0].to_markov_model())\n",
    "#print(gen_k2score(bModel[0]))\n",
    "\n",
    "bModel.append(BayesianModel([('x1', 'x2'), ('x3', 'x6'), ('x2', 'x3'), ('x6','x4'), ('x2','x5')]))\n",
    "bModel[1].add_cpds(cpds['x1'], cpds['x12'], cpds['x36'], cpds['x23'], cpds['x64'], cpds['x25'])\n",
    "marModel.append(bModel[1].to_markov_model())\n",
    "                                   \n",
    "bModel.append(BayesianModel([('x5', 'x2'), ('x2', 'x3'), ('x3', 'x6'), ('x6', 'x1'), ('x1', 'x4')]))\n",
    "bModel[2].add_cpds(cpds['x5'], cpds['x52'], cpds['x23'], cpds['x36'], cpds['x61'], cpds['x14'])\n",
    "marModel.append(bModel[2].to_markov_model())\n",
    "\n",
    "bModel.append(BayesianModel([('x4', 'x6'), ('x2', 'x3'), ('x3', 'x5'), ('x6', 'x2'), ('x1', 'x4')]))\n",
    "bModel[3].add_cpds(cpds['x1'], cpds['x46'], cpds['x23'], cpds['x36'], cpds['x62'], cpds['x14'])\n",
    "marModel.append(bModel[3].to_markov_model())\n",
    "\n",
    "bModel.append(BayesianModel([('x5', 'x2'), ('x2', 'x3'), ('x3', 'x6'), ('x6', 'x1'), ('x1', 'x4')]))\n",
    "bModel[4].add_cpds(cpds['x5'], cpds['x52'], cpds['x23'], cpds['x36'], cpds['x61'], cpds['x14'])\n",
    "marModel.append(bModel[4].to_markov_model())\n",
    "\n",
    "bModel.append(BayesianModel([('x6', 'x2'), ('x3', 'x5'), ('x6', 'x1'), ('x2', 'x3'), ('x1', 'x4')]))\n",
    "bModel[5].add_cpds(cpds['x6'], cpds['x62'], cpds['x35'], cpds['x61'], cpds['x23'], cpds['x14'])\n",
    "marModel.append(bModel[5].to_markov_model())"
   ]
  },
  {
   "cell_type": "markdown",
   "metadata": {},
   "source": [
    "### Evaluating the K2 Score of the Models\n",
    "Here we first need to gather data corresponding to the model passed. We do this by Ancestral Sampling (or Forward Sampling) to replicate the data based on the probabilities given for the model. We gather 1000 data samples for each of the models.\n",
    "\n",
    "We then find the K2 Score of the Model by using the the data sample generated."
   ]
  },
  {
   "cell_type": "code",
   "execution_count": 26,
   "metadata": {
    "ExecuteTime": {
     "end_time": "2019-04-04T22:12:51.960846Z",
     "start_time": "2019-04-04T22:12:51.953165Z"
    },
    "init_cell": true
   },
   "outputs": [],
   "source": [
    "def gen_k2score(model):\n",
    "    inference = BayesianModelSampling(model)\n",
    "    data = inference.forward_sample(size=1000)\n",
    "    k2 = K2Score(data).score(model)\n",
    "    return k2, data"
   ]
  },
  {
   "cell_type": "code",
   "execution_count": 34,
   "metadata": {
    "ExecuteTime": {
     "end_time": "2019-03-09T02:03:59.858616Z",
     "start_time": "2019-03-09T02:03:58.277420Z"
    }
   },
   "outputs": [],
   "source": [
    "for i in range(len(bModel)):\n",
    "    (k2, d) = (gen_k2score(bModel[0]))\n",
    "    k2_B.append(k2)\n",
    "    data.append(d)\n",
    "    #k2_M.append(gen_k2score(marModel[0]))"
   ]
  },
  {
   "cell_type": "markdown",
   "metadata": {},
   "source": [
    "### Finding Best Model\n",
    "To find the best model, we consider the model with the highest K2 Score. After finding the best model, we find the most probable 'th' image features for the model.\n",
    "\n",
    "This is carried out by evaluating the features of the data. We find the highest frequency of a combination of the features in the dataset. This will be the most probable features for the 'th' image. \n",
    "The least probable images would be when the frequency of occurance in the data set is minimum.\n",
    "\n",
    "The K2 Scores of the models along with the best Model and the corresponding most and least probable image is shown below.\n",
    "\n"
   ]
  },
  {
   "cell_type": "code",
   "execution_count": 35,
   "metadata": {
    "ExecuteTime": {
     "end_time": "2019-03-09T02:04:00.513340Z",
     "start_time": "2019-03-09T02:04:00.227044Z"
    },
    "scrolled": true
   },
   "outputs": [],
   "source": [
    "import networkx as nx\n",
    "import pylab as plt\n",
    "def drawModel(model):\n",
    "    nx.draw(model, with_labels=True)\n",
    "#plt.show()"
   ]
  },
  {
   "cell_type": "code",
   "execution_count": 27,
   "metadata": {
    "ExecuteTime": {
     "end_time": "2019-04-04T22:12:51.989801Z",
     "start_time": "2019-04-04T22:12:51.963815Z"
    },
    "init_cell": true
   },
   "outputs": [],
   "source": [
    "import collections\n",
    "from collections import Counter\n",
    "def most_prob(inp):\n",
    "    counter = Counter()\n",
    "    for a in inp:\n",
    "        counter[tuple(a)]+=1\n",
    "    return(counter.most_common(1)[0][0], counter.most_common()[:-4:-1])"
   ]
  },
  {
   "cell_type": "code",
   "execution_count": 37,
   "metadata": {
    "ExecuteTime": {
     "end_time": "2019-03-09T02:04:01.133325Z",
     "start_time": "2019-03-09T02:04:01.107203Z"
    }
   },
   "outputs": [
    {
     "name": "stdout",
     "output_type": "stream",
     "text": [
      "Model 0 Score : -6349.024306614203\n",
      "Model 1 Score : -6512.489629422497\n",
      "Model 2 Score : -6462.132716846303\n",
      "Model 3 Score : -6444.358114328363\n",
      "Model 4 Score : -6430.682651678638\n",
      "Model 5 Score : -6413.908940322969\n",
      "\n",
      "Best Model 'th' Dataset : -6349.024306614203\n",
      "Edges : [('x1', 'x2'), ('x1', 'x6'), ('x2', 'x3'), ('x2', 'x5'), ('x6', 'x4')]\n",
      "\n",
      "High Probable Features : (0, 1, 1, 3, 3, 0)\n",
      "Low Probable Features : (0, 4, 0, 3, 2, 0) , (0, 0, 0, 0, 2, 3)\n"
     ]
    }
   ],
   "source": [
    "for key in range(len(k2_B)):\n",
    "    print(\"Model \" + str(key) +\" Score : \" + str(k2_B[key]))\n",
    "best_model_thDS = [np.argmax(k2_B), max(k2_B)]\n",
    "print(\"\\nBest Model 'th' Dataset : \" +  str(best_model_thDS[1]))\n",
    "print (\"Edges : \" + str(bModel[best_model_thDS[0]].edges()))\n",
    "\n",
    "feat = np.asarray(most_prob(data[best_model_thDS[0]].values.astype(int)))\n",
    "print (\"\\nHigh Probable Features : \"+str(feat[0]))\n",
    "print (\"Low Probable Features : \" + str(feat[1][0][0]) +\" , \"+ str(feat[1][1][0]))"
   ]
  },
  {
   "cell_type": "code",
   "execution_count": 38,
   "metadata": {
    "ExecuteTime": {
     "end_time": "2019-03-09T02:04:02.006607Z",
     "start_time": "2019-03-09T02:04:01.866169Z"
    }
   },
   "outputs": [
    {
     "name": "stdout",
     "output_type": "stream",
     "text": [
      "The best model for Bayesian Network is given as the following :\n"
     ]
    },
    {
     "name": "stderr",
     "output_type": "stream",
     "text": [
      "/Users/akash/anaconda3/lib/python3.7/site-packages/networkx/drawing/nx_pylab.py:126: MatplotlibDeprecationWarning: pyplot.hold is deprecated.\n",
      "    Future behavior will be consistent with the long-time default:\n",
      "    plot commands add elements without first clearing the\n",
      "    Axes and/or Figure.\n",
      "  b = plt.ishold()\n",
      "/Users/akash/anaconda3/lib/python3.7/site-packages/networkx/drawing/nx_pylab.py:522: MatplotlibDeprecationWarning: The is_string_like function was deprecated in version 2.1.\n",
      "  if not cb.is_string_like(edge_color) \\\n",
      "/Users/akash/anaconda3/lib/python3.7/site-packages/networkx/drawing/nx_pylab.py:543: MatplotlibDeprecationWarning: The is_string_like function was deprecated in version 2.1.\n",
      "  if cb.is_string_like(edge_color) or len(edge_color) == 1:\n",
      "/Users/akash/anaconda3/lib/python3.7/site-packages/networkx/drawing/nx_pylab.py:724: MatplotlibDeprecationWarning: The is_string_like function was deprecated in version 2.1.\n",
      "  if not cb.is_string_like(label):\n",
      "/Users/akash/anaconda3/lib/python3.7/site-packages/networkx/drawing/nx_pylab.py:138: MatplotlibDeprecationWarning: pyplot.hold is deprecated.\n",
      "    Future behavior will be consistent with the long-time default:\n",
      "    plot commands add elements without first clearing the\n",
      "    Axes and/or Figure.\n",
      "  plt.hold(b)\n",
      "/Users/akash/anaconda3/lib/python3.7/site-packages/matplotlib/__init__.py:910: MatplotlibDeprecationWarning: axes.hold is deprecated. Please remove it from your matplotlibrc and/or style files.\n",
      "  mplDeprecation)\n",
      "/Users/akash/anaconda3/lib/python3.7/site-packages/matplotlib/rcsetup.py:156: MatplotlibDeprecationWarning: axes.hold is deprecated, will be removed in 3.0\n",
      "  mplDeprecation)\n"
     ]
    },
    {
     "data": {
      "image/png": "[encoded data removed]",
      "text/plain": [
       "<Figure size 432x288 with 1 Axes>"
      ]
     },
     "metadata": {},
     "output_type": "display_data"
    }
   ],
   "source": [
    "print (\"The best model for Bayesian Network is given as the following :\")\n",
    "drawModel(bModel[best_model_thDS[0]])"
   ]
  },
  {
   "cell_type": "code",
   "execution_count": 39,
   "metadata": {
    "ExecuteTime": {
     "end_time": "2019-03-09T02:04:02.801607Z",
     "start_time": "2019-03-09T02:04:02.656249Z"
    }
   },
   "outputs": [
    {
     "name": "stdout",
     "output_type": "stream",
     "text": [
      "The best model for Markov Model is given as the following :\n"
     ]
    },
    {
     "data": {
      "image/png": "[encoded data removed]",
      "text/plain": [
       "<Figure size 432x288 with 1 Axes>"
      ]
     },
     "metadata": {},
     "output_type": "display_data"
    }
   ],
   "source": [
    "print (\"The best model for Markov Model is given as the following :\")\n",
    "drawModel(marModel[best_model_thDS[0]])"
   ]
  },
  {
   "cell_type": "markdown",
   "metadata": {},
   "source": [
    "# Part 3 : Markov Models\n",
    "\n",
    "In the previous step, we have converted the models in to Markov Models. Using both Bayesian and Markov Models, we try to predict (or inference) the value of a feature assuming we know the rest of the feature values. This is accomplished by using Belief Propagation. \n",
    "\n",
    "Belief Propagation (sum-product) is a message passing algorithm used for performing inferences of graphical models like Bayesian and Markov Models. To find the value of the missing node, it calculates the marginal distribution for each of the unknown nodes and conditional on the observed nodes. This enables us to determine the value for the unknown node.\n",
    "\n",
    "Below, the unknown variables are in 'variables' while the known variables and their values are stored in a dictionary as the 'evidence'. After querying for result, we get the predicted value of the 'variables'. This is executed for both the Bayesian and Markov Models for 'th' and 'and' Datasets."
   ]
  },
  {
   "cell_type": "code",
   "execution_count": 40,
   "metadata": {
    "ExecuteTime": {
     "end_time": "2019-03-09T02:04:04.154723Z",
     "start_time": "2019-03-09T02:04:04.147040Z"
    }
   },
   "outputs": [],
   "source": [
    "\n",
    "def cal_accuracy_th(data):\n",
    "    m_result = []\n",
    "    data = data[cols]\n",
    "    for d in data.values:\n",
    "        m_result.append(belief_propagation.map_query(variables=['x3'],evidence={'x1': d[0], 'x2':d[1],  'x4': d[3], 'x5': d[4], 'x6' : d[5]})['x3'])\n",
    "    label = data['x3'].values\n",
    "    acc = (m_result==label).sum()/len(label)*100\n",
    "    return acc"
   ]
  },
  {
   "cell_type": "code",
   "execution_count": 41,
   "metadata": {
    "ExecuteTime": {
     "end_time": "2019-03-09T02:04:04.906071Z",
     "start_time": "2019-03-09T02:04:04.894899Z"
    }
   },
   "outputs": [],
   "source": [
    "def cal_accuracy_and(data):\n",
    "    m_result = []\n",
    "    data = data[cols]\n",
    "    for d in data.values:\n",
    "        m_result.append(belief_propagation.map_query(variables=['f9'],evidence={'f1': d[0], 'f2':d[1], 'f3' : d[2], 'f4': d[3], 'f5': d[4], 'f6': d[5], 'f7':d[6], 'f8': d[7]})['f9'])\n",
    "    label = data['f9'].values\n",
    "    acc = (m_result==label).sum()/len(label)*100\n",
    "    return acc"
   ]
  },
  {
   "cell_type": "code",
   "execution_count": 54,
   "metadata": {
    "ExecuteTime": {
     "end_time": "2019-03-09T02:20:34.895159Z",
     "start_time": "2019-03-09T02:20:12.133816Z"
    }
   },
   "outputs": [
    {
     "name": "stderr",
     "output_type": "stream",
     "text": [
      "/Users/akash/anaconda3/lib/python3.7/site-packages/pgmpy/factors/discrete/DiscreteFactor.py:586: FutureWarning: Using a non-tuple sequence for multidimensional indexing is deprecated; use `arr[tuple(seq)]` instead of `arr[seq]`. In the future this will be interpreted as an array index, `arr[np.array(seq)]`, which will result either in an error or a different result.\n",
      "  phi.values = phi.values[slice_]\n",
      "/Users/akash/anaconda3/lib/python3.7/site-packages/pgmpy/factors/discrete/DiscreteFactor.py:598: FutureWarning: Using a non-tuple sequence for multidimensional indexing is deprecated; use `arr[tuple(seq)]` instead of `arr[seq]`. In the future this will be interpreted as an array index, `arr[np.array(seq)]`, which will result either in an error or a different result.\n",
      "  phi1.values = phi1.values[slice_]\n",
      "/Users/akash/anaconda3/lib/python3.7/site-packages/pgmpy/factors/discrete/DiscreteFactor.py:663: FutureWarning: Using a non-tuple sequence for multidimensional indexing is deprecated; use `arr[tuple(seq)]` instead of `arr[seq]`. In the future this will be interpreted as an array index, `arr[np.array(seq)]`, which will result either in an error or a different result.\n",
      "  phi1.values = phi1.values[slice_]\n"
     ]
    },
    {
     "name": "stdout",
     "output_type": "stream",
     "text": [
      "Predicting node x3\n",
      "Accuracy Bayesian Model : 66.7\n",
      "Accuracy Markov Model : 66.7\n",
      "CPU times: user 20.6 s, sys: 259 ms, total: 20.9 s\n",
      "Wall time: 22.7 s\n"
     ]
    }
   ],
   "source": [
    "%%time\n",
    "cols = ['x1', 'x2', 'x3', 'x4', 'x5', 'x6']\n",
    "\n",
    "belief_propagation = BeliefPropagation(bModel[best_model_thDS[0]])\n",
    "belief_propagation.calibrate()\n",
    "acc_BN_th = cal_accuracy_th(data[best_model_thDS[0]])\n",
    "belief_propagation = BeliefPropagation(marModel[best_model_thDS[0]])\n",
    "belief_propagation.calibrate()\n",
    "acc_MM_th = cal_accuracy_th(data[best_model_thDS[0]])\n",
    "print (\"Predicting node x3\")\n",
    "print (\"Accuracy Bayesian Model : \" + str(acc_BN_th))\n",
    "print (\"Accuracy Markov Model : \" + str(acc_MM_th))"
   ]
  },
  {
   "cell_type": "markdown",
   "metadata": {},
   "source": [
    "# Part 4 : Bayesian Network for 'and' Image Dataset\n",
    "Here we construct the Bayesian Network for the 'and' dataset. We have the image data with 9 features each. We first find the correlations and independencies of the features by using test_conditional_independence(). Only if the significance level is higher than a threshold, we consider those conditionals as true. "
   ]
  },
  {
   "cell_type": "code",
   "execution_count": 28,
   "metadata": {
    "ExecuteTime": {
     "end_time": "2019-04-04T22:12:52.119788Z",
     "start_time": "2019-04-04T22:12:52.047286Z"
    },
    "init_cell": true
   },
   "outputs": [],
   "source": [
    "andDataset = pd.read_csv('AND-Features(1).csv')\n",
    "from pgmpy.estimators import ConstraintBasedEstimator\n",
    "est = ConstraintBasedEstimator(andDataset)\n",
    "def is_independent(X, Y, Zs=[], significance_level=0.30):\n",
    "    return est.test_conditional_independence(X, Y, Zs)[1] >= significance_level"
   ]
  },
  {
   "cell_type": "code",
   "execution_count": 44,
   "metadata": {
    "ExecuteTime": {
     "end_time": "2019-03-09T02:04:26.165914Z",
     "start_time": "2019-03-09T02:04:24.136016Z"
    }
   },
   "outputs": [
    {
     "name": "stdout",
     "output_type": "stream",
     "text": [
      "Related Features of 'and' Dataset : \n",
      "[['f1', 'f3'], ['f1', 'f4'], ['f1', 'f5'], ['f1', 'f6'], ['f2', 'f3'], ['f2', 'f5'], ['f2', 'f7'], ['f2', 'f8'], ['f3', 'f1'], ['f3', 'f2'], ['f3', 'f7'], ['f3', 'f9'], ['f4', 'f1'], ['f4', 'f7'], ['f5', 'f1'], ['f5', 'f2'], ['f6', 'f1'], ['f7', 'f2'], ['f7', 'f3'], ['f7', 'f4'], ['f8', 'f2'], ['f9', 'f3']]\n",
      "No. of dependencies : 22\n"
     ]
    }
   ],
   "source": [
    "cols = andDataset.columns.values.tolist()[2:]\n",
    "andIndependent = []\n",
    "for i in range(len(cols)):\n",
    "    for j in range(len(cols)):\n",
    "        val = is_independent(cols[i], cols[j])\n",
    "        #print(str(i+1) + \" and \" + str(j+1) +\" : \" + str(val))\n",
    "        if val:\n",
    "            andIndependent.append([cols[i], cols[j]])  \n",
    "print (\"Related Features of 'and' Dataset : \\n\" + str(andIndependent))\n",
    "print (\"No. of dependencies : \" + str(len(andIndependent)))"
   ]
  },
  {
   "cell_type": "markdown",
   "metadata": {},
   "source": [
    "## Best Models\n",
    "Here we use HillClimbSearch to estimate the best model for the given dataset. It performs a Heuristic Search which selects the best route out of possible routes.\n",
    "\n",
    "We also build various other models based on the independency levels shown previously. We estimate the CPDs for the different models using Maximum Likelihood Estimator and then find the corresponding K2 Scores. "
   ]
  },
  {
   "cell_type": "code",
   "execution_count": 45,
   "metadata": {
    "ExecuteTime": {
     "end_time": "2019-03-09T02:04:42.522785Z",
     "start_time": "2019-03-09T02:04:26.459513Z"
    },
    "scrolled": true
   },
   "outputs": [],
   "source": [
    "from pgmpy.estimators import HillClimbSearch\n",
    "\n",
    "hc = HillClimbSearch(andDataset.iloc[:,2:], scoring_method=K2Score(andDataset))\n",
    "best_model_andDS = hc.estimate()"
   ]
  },
  {
   "cell_type": "code",
   "execution_count": 46,
   "metadata": {
    "ExecuteTime": {
     "end_time": "2019-03-09T02:04:43.588139Z",
     "start_time": "2019-03-09T02:04:42.770631Z"
    },
    "code_folding": []
   },
   "outputs": [
    {
     "name": "stdout",
     "output_type": "stream",
     "text": [
      "Model 0 : -10011.432484908248\n",
      "Model 1 : -9908.174011977808\n",
      "Model 2 : -9930.627486874066\n",
      "Model 3 : -9968.969303733815\n",
      "\n",
      "Best Model 'and' Dataset -9462.704892371388\n",
      "Best Model Edges : [('f3', 'f4'), ('f3', 'f9'), ('f3', 'f8'), ('f5', 'f9'), ('f5', 'f3'), ('f9', 'f8'), ('f9', 'f7'), ('f9', 'f1'), ('f9', 'f6'), ('f9', 'f2'), ('f9', 'f4')]\n"
     ]
    }
   ],
   "source": [
    "from pgmpy.estimators import BayesianEstimator\n",
    "from pgmpy.estimators import MaximumLikelihoodEstimator\n",
    "score = []\n",
    "m = []\n",
    "m.append([('f1', 'f3'), ('f2', 'f3'), ('f2', 'f8'), ('f3', 'f9'),('f4', 'f7'),('f8', 'f3'), ('f6', 'f1'), ('f5','f2')])\n",
    "m.append([('f1', 'f3'), ('f2', 'f4'), ('f4', 'f5'), ('f2', 'f8'), ('f4','f7'), ('f9','f3'),('f3', 'f7'), ('f6','f1')])\n",
    "m.append([('f1', 'f5'), ('f5', 'f2'), ('f2', 'f7'), ('f7', 'f3'),('f8', 'f2'),('f7','f4'), ('f6','f1'), ('f9','f3')])\n",
    "m.append([('f1', 'f5'), ('f3', 'f2'), ('f8', 'f2'), ('f6', 'f1'),('f7', 'f2'), ('f7','f3'),('f3','f9'), ('f4','f7')])\n",
    "\n",
    "\n",
    "for mod in m:\n",
    "    model = BayesianModel(mod)\n",
    "    estimator = MaximumLikelihoodEstimator(model, andDataset.iloc[:,2:])\n",
    "    and_cpd = estimator.get_parameters()\n",
    "    for cpd in and_cpd:\n",
    "        model.add_cpds(cpd)\n",
    "    score.append(K2Score(andDataset.iloc[:,2:]).score(model))\n",
    "\n",
    "for i in range(len(score)):\n",
    "    print (\"Model \"+str(i)+\" : \" + str(score[i]))\n",
    "print (\"\\nBest Model 'and' Dataset \" +  str(K2Score(andDataset.iloc[:,2:]).score(best_model_andDS)))\n",
    "print(\"Best Model Edges : \" + str(best_model_andDS.edges()))\n"
   ]
  },
  {
   "cell_type": "code",
   "execution_count": 47,
   "metadata": {
    "ExecuteTime": {
     "end_time": "2019-03-09T02:04:43.875755Z",
     "start_time": "2019-03-09T02:04:43.784577Z"
    }
   },
   "outputs": [
    {
     "data": {
      "text/plain": [
       "[<TabularCPD representing P(f1:4 | f9:2) at 0x1a16469f60>,\n",
       " <TabularCPD representing P(f2:5 | f9:2) at 0x1a16469390>,\n",
       " <TabularCPD representing P(f3:3 | f5:4) at 0x1a16469a90>,\n",
       " <TabularCPD representing P(f4:5 | f3:3, f9:2) at 0x1a16469860>,\n",
       " <TabularCPD representing P(f5:4) at 0x1a16469400>,\n",
       " <TabularCPD representing P(f6:4 | f9:2) at 0x1a16469080>,\n",
       " <TabularCPD representing P(f7:4 | f9:2) at 0x1a16469630>,\n",
       " <TabularCPD representing P(f8:5 | f3:3, f9:2) at 0x1a1648b048>,\n",
       " <TabularCPD representing P(f9:2 | f3:3, f5:4) at 0x1a1648ba90>]"
      ]
     },
     "execution_count": 47,
     "metadata": {},
     "output_type": "execute_result"
    }
   ],
   "source": [
    "best_model_andDS.get_cpds()\n",
    "estimator = MaximumLikelihoodEstimator(best_model_andDS, andDataset.iloc[:,2:])\n",
    "and_cpd = estimator.get_parameters()\n",
    "for cpd in and_cpd:\n",
    "    best_model_andDS.add_cpds(cpd)\n",
    "best_model_andDS.get_cpds()"
   ]
  },
  {
   "cell_type": "code",
   "execution_count": 52,
   "metadata": {
    "ExecuteTime": {
     "end_time": "2019-03-09T02:18:55.387819Z",
     "start_time": "2019-03-09T02:18:12.410572Z"
    },
    "scrolled": false
   },
   "outputs": [
    {
     "name": "stderr",
     "output_type": "stream",
     "text": [
      "/Users/akash/anaconda3/lib/python3.7/site-packages/pgmpy/factors/discrete/DiscreteFactor.py:598: FutureWarning: Using a non-tuple sequence for multidimensional indexing is deprecated; use `arr[tuple(seq)]` instead of `arr[seq]`. In the future this will be interpreted as an array index, `arr[np.array(seq)]`, which will result either in an error or a different result.\n",
      "  phi1.values = phi1.values[slice_]\n",
      "/Users/akash/anaconda3/lib/python3.7/site-packages/pgmpy/factors/discrete/DiscreteFactor.py:586: FutureWarning: Using a non-tuple sequence for multidimensional indexing is deprecated; use `arr[tuple(seq)]` instead of `arr[seq]`. In the future this will be interpreted as an array index, `arr[np.array(seq)]`, which will result either in an error or a different result.\n",
      "  phi.values = phi.values[slice_]\n",
      "/Users/akash/anaconda3/lib/python3.7/site-packages/pgmpy/factors/discrete/DiscreteFactor.py:663: FutureWarning: Using a non-tuple sequence for multidimensional indexing is deprecated; use `arr[tuple(seq)]` instead of `arr[seq]`. In the future this will be interpreted as an array index, `arr[np.array(seq)]`, which will result either in an error or a different result.\n",
      "  phi1.values = phi1.values[slice_]\n"
     ]
    },
    {
     "name": "stdout",
     "output_type": "stream",
     "text": [
      "'and' Dataset Inferences :\n",
      "Predicting node f9 :\n",
      "Bayesian Model Accuracy : 8.089668615984404\n",
      "Markov Model Accuracy   : 8.089668615984404\n",
      "CPU times: user 40.5 s, sys: 451 ms, total: 40.9 s\n",
      "Wall time: 43 s\n"
     ]
    }
   ],
   "source": [
    "%%time\n",
    "cols = ['f1', 'f2', 'f3', 'f4', 'f5', 'f6', 'f7', 'f8', 'f9']\n",
    "\n",
    "MM_bModel_andDS = best_model_andDS.to_markov_model()\n",
    "\n",
    "belief_propagation = BeliefPropagation(best_model_andDS)\n",
    "acc_BN_and = cal_accuracy_and(andDataset.iloc[:,2:])\n",
    "\n",
    "belief_propagation = BeliefPropagation(MM_bModel_andDS)\n",
    "acc_MM_and = cal_accuracy_and(andDataset.iloc[:,2:])\n",
    "\n",
    "print (\"'and' Dataset Inferences :\")\n",
    "print (\"Predicting node f9 :\")\n",
    "print (\"Bayesian Model Accuracy : \" + str(acc_BN_and))\n",
    "print (\"Markov Model Accuracy   : \" + str(acc_MM_and))\n"
   ]
  },
  {
   "cell_type": "code",
   "execution_count": 49,
   "metadata": {
    "ExecuteTime": {
     "end_time": "2019-03-09T02:05:21.682341Z",
     "start_time": "2019-03-09T02:05:21.550301Z"
    },
    "scrolled": true
   },
   "outputs": [
    {
     "name": "stdout",
     "output_type": "stream",
     "text": [
      "BN in 'and' Dataset\n"
     ]
    },
    {
     "data": {
      "image/png": "[encoded data removed]",
      "text/plain": [
       "<Figure size 432x288 with 1 Axes>"
      ]
     },
     "metadata": {},
     "output_type": "display_data"
    }
   ],
   "source": [
    "print (\"BN in 'and' Dataset\")\n",
    "drawModel(best_model_andDS)"
   ]
  },
  {
   "cell_type": "code",
   "execution_count": 51,
   "metadata": {
    "ExecuteTime": {
     "end_time": "2019-03-09T02:13:40.979527Z",
     "start_time": "2019-03-09T02:13:40.856707Z"
    }
   },
   "outputs": [
    {
     "name": "stdout",
     "output_type": "stream",
     "text": [
      "CPU times: user 30.9 ms, sys: 12.1 ms, total: 43 ms\n",
      "Wall time: 42.7 ms\n"
     ]
    },
    {
     "name": "stderr",
     "output_type": "stream",
     "text": [
      "/Users/akash/anaconda3/lib/python3.7/site-packages/networkx/drawing/nx_pylab.py:126: MatplotlibDeprecationWarning: pyplot.hold is deprecated.\n",
      "    Future behavior will be consistent with the long-time default:\n",
      "    plot commands add elements without first clearing the\n",
      "    Axes and/or Figure.\n",
      "  b = plt.ishold()\n",
      "/Users/akash/anaconda3/lib/python3.7/site-packages/networkx/drawing/nx_pylab.py:522: MatplotlibDeprecationWarning: The is_string_like function was deprecated in version 2.1.\n",
      "  if not cb.is_string_like(edge_color) \\\n",
      "/Users/akash/anaconda3/lib/python3.7/site-packages/networkx/drawing/nx_pylab.py:543: MatplotlibDeprecationWarning: The is_string_like function was deprecated in version 2.1.\n",
      "  if cb.is_string_like(edge_color) or len(edge_color) == 1:\n",
      "/Users/akash/anaconda3/lib/python3.7/site-packages/networkx/drawing/nx_pylab.py:724: MatplotlibDeprecationWarning: The is_string_like function was deprecated in version 2.1.\n",
      "  if not cb.is_string_like(label):\n",
      "/Users/akash/anaconda3/lib/python3.7/site-packages/networkx/drawing/nx_pylab.py:138: MatplotlibDeprecationWarning: pyplot.hold is deprecated.\n",
      "    Future behavior will be consistent with the long-time default:\n",
      "    plot commands add elements without first clearing the\n",
      "    Axes and/or Figure.\n",
      "  plt.hold(b)\n",
      "/Users/akash/anaconda3/lib/python3.7/site-packages/matplotlib/__init__.py:910: MatplotlibDeprecationWarning: axes.hold is deprecated. Please remove it from your matplotlibrc and/or style files.\n",
      "  mplDeprecation)\n",
      "/Users/akash/anaconda3/lib/python3.7/site-packages/matplotlib/rcsetup.py:156: MatplotlibDeprecationWarning: axes.hold is deprecated, will be removed in 3.0\n",
      "  mplDeprecation)\n"
     ]
    },
    {
     "data": {
      "image/png": "[encoded data removed]",
      "text/plain": [
       "<Figure size 432x288 with 1 Axes>"
      ]
     },
     "metadata": {},
     "output_type": "display_data"
    }
   ],
   "source": [
    "\n",
    "drawModel(MM_bModel_andDS)"
   ]
  },
  {
   "cell_type": "code",
   "execution_count": null,
   "metadata": {},
   "outputs": [],
   "source": []
  }
 ],
 "metadata": {
  "celltoolbar": "Initialization Cell",
  "kernelspec": {
   "display_name": "Python 3",
   "language": "python",
   "name": "python3"
  },
  "language_info": {
   "codemirror_mode": {
    "name": "ipython",
    "version": 3
   },
   "file_extension": ".py",
   "mimetype": "text/x-python",
   "name": "python",
   "nbconvert_exporter": "python",
   "pygments_lexer": "ipython3",
   "version": "3.7.1"
  },
  "latex_envs": {
   "LaTeX_envs_menu_present": true,
   "autoclose": false,
   "autocomplete": true,
   "bibliofile": "biblio.bib",
   "cite_by": "apalike",
   "current_citInitial": 1,
   "eqLabelWithNumbers": true,
   "eqNumInitial": 1,
   "hotkeys": {
    "equation": "Ctrl-E",
    "itemize": "Ctrl-I"
   },
   "labels_anchors": false,
   "latex_user_defs": false,
   "report_style_numbering": false,
   "user_envs_cfg": false
  },
  "toc": {
   "base_numbering": 1,
   "nav_menu": {},
   "number_sections": true,
   "sideBar": true,
   "skip_h1_title": false,
   "title_cell": "Table of Contents",
   "title_sidebar": "Contents",
   "toc_cell": false,
   "toc_position": {},
   "toc_section_display": true,
   "toc_window_display": false
  },
  "varInspector": {
   "cols": {
    "lenName": 16,
    "lenType": 16,
    "lenVar": 40
   },
   "kernels_config": {
    "python": {
     "delete_cmd_postfix": "",
     "delete_cmd_prefix": "del ",
     "library": "var_list.py",
     "varRefreshCmd": "print(var_dic_list())"
    },
    "r": {
     "delete_cmd_postfix": ") ",
     "delete_cmd_prefix": "rm(",
     "library": "var_list.r",
     "varRefreshCmd": "cat(var_dic_list()) "
    }
   },
   "types_to_exclude": [
    "module",
    "function",
    "builtin_function_or_method",
    "instance",
    "_Feature"
   ],
   "window_display": false
  }
 },
 "nbformat": 4,
 "nbformat_minor": 2
}
